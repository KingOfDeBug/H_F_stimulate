{
 "cells": [
  {
   "cell_type": "code",
   "execution_count": 1,
   "id": "lucky-willow",
   "metadata": {
    "ExecuteTime": {
     "end_time": "2021-06-11T11:50:22.967448Z",
     "start_time": "2021-06-11T11:50:22.014113Z"
    }
   },
   "outputs": [],
   "source": [
    "import numpy as np\n",
    "from numba import njit,jit\n",
    "import matplotlib.pyplot as plt\n",
    "from tqdm import tqdm"
   ]
  },
  {
   "cell_type": "markdown",
   "id": "different-bottle",
   "metadata": {},
   "source": [
    "# 设定参数"
   ]
  },
  {
   "cell_type": "markdown",
   "id": "intermediate-retreat",
   "metadata": {},
   "source": [
    "## 基本参数"
   ]
  },
  {
   "cell_type": "code",
   "execution_count": 2,
   "id": "distant-eclipse",
   "metadata": {
    "ExecuteTime": {
     "end_time": "2021-06-11T11:50:22.972143Z",
     "start_time": "2021-06-11T11:50:22.969396Z"
    }
   },
   "outputs": [],
   "source": [
    "num_electron = 2*10**(5)\n",
    "num_Hg = 7\n",
    "num_voltage = 500\n",
    "max_voltage = 40\n",
    "lambda_Ek = 1.5\n",
    "negative_voltage = 2.4\n",
    "acc_voltage = 1"
   ]
  },
  {
   "cell_type": "markdown",
   "id": "racial-shield",
   "metadata": {},
   "source": [
    "# 设定常量"
   ]
  },
  {
   "cell_type": "markdown",
   "id": "mighty-nomination",
   "metadata": {},
   "source": [
    "## 激发常量"
   ]
  },
  {
   "cell_type": "code",
   "execution_count": 3,
   "id": "affecting-serve",
   "metadata": {
    "ExecuteTime": {
     "end_time": "2021-06-11T11:50:22.976715Z",
     "start_time": "2021-06-11T11:50:22.974507Z"
    }
   },
   "outputs": [],
   "source": [
    "E_state = np.array([4.67,4.89,5.46,6.7])\n",
    "p1 = 0.5\n",
    "p2 = 0.6\n",
    "p3 = 0.7"
   ]
  },
  {
   "cell_type": "code",
   "execution_count": 4,
   "id": "recovered-exclusive",
   "metadata": {
    "ExecuteTime": {
     "end_time": "2021-06-11T11:50:22.981403Z",
     "start_time": "2021-06-11T11:50:22.978212Z"
    }
   },
   "outputs": [],
   "source": [
    "p01 = 0.4\n",
    "p02 = 0.4\n",
    "excite_2 = np.array([p01,p1+p01,p2+p1+p01])/(p01+p1+p2)\n",
    "excite_3 = np.array([p02,p1+p02,p3+p1+p02,p3+p3+p1+p02])/(p02+p1+p3+p3)\n",
    "excite_4 = np.array([0.1,0.3,0.5,0.7,1.0])"
   ]
  },
  {
   "cell_type": "markdown",
   "id": "identified-michael",
   "metadata": {},
   "source": [
    "# 初始化参数"
   ]
  },
  {
   "cell_type": "markdown",
   "id": "wireless-louis",
   "metadata": {
    "ExecuteTime": {
     "end_time": "2021-06-10T01:12:45.966827Z",
     "start_time": "2021-06-10T01:12:45.964880Z"
    }
   },
   "source": [
    "## 初始化动能"
   ]
  },
  {
   "attachments": {
    "image.png": {
     "image/png": "[encoded data removed]"
    }
   },
   "cell_type": "markdown",
   "id": "grand-donna",
   "metadata": {},
   "source": [
    "![image.png](attachment:image.png)"
   ]
  },
  {
   "attachments": {
    "image.png": {
     "image/png": "[encoded data removed]"
    }
   },
   "cell_type": "markdown",
   "id": "earned-medium",
   "metadata": {},
   "source": [
    "![image.png](attachment:image.png)"
   ]
  },
  {
   "cell_type": "code",
   "execution_count": 5,
   "id": "balanced-canyon",
   "metadata": {
    "ExecuteTime": {
     "end_time": "2021-06-11T11:50:24.715332Z",
     "start_time": "2021-06-11T11:50:22.982965Z"
    }
   },
   "outputs": [],
   "source": [
    "Ek = np.random.exponential(1/lambda_Ek,(num_voltage,num_electron))"
   ]
  },
  {
   "cell_type": "markdown",
   "id": "demonstrated-yemen",
   "metadata": {},
   "source": [
    "## 生成Hg原子相对位置"
   ]
  },
  {
   "cell_type": "code",
   "execution_count": 6,
   "id": "theoretical-causing",
   "metadata": {
    "ExecuteTime": {
     "end_time": "2021-06-11T11:50:24.718979Z",
     "start_time": "2021-06-11T11:50:24.716790Z"
    }
   },
   "outputs": [],
   "source": [
    "Hg_pos = np.random.uniform(0,1,num_Hg)\n",
    "Hg_pos = np.sort(Hg_pos)"
   ]
  },
  {
   "cell_type": "markdown",
   "id": "detected-collective",
   "metadata": {},
   "source": [
    "## 确定每级加速能量"
   ]
  },
  {
   "cell_type": "markdown",
   "id": "cubic-removal",
   "metadata": {},
   "source": [
    "### 预加速能量"
   ]
  },
  {
   "cell_type": "code",
   "execution_count": 7,
   "id": "legislative-dictionary",
   "metadata": {
    "ExecuteTime": {
     "end_time": "2021-06-11T11:50:24.724310Z",
     "start_time": "2021-06-11T11:50:24.722320Z"
    }
   },
   "outputs": [],
   "source": [
    "voltage_arr = np.arange(0,max_voltage,max_voltage/num_voltage)"
   ]
  },
  {
   "cell_type": "markdown",
   "id": "coupled-metallic",
   "metadata": {},
   "source": [
    "### 加速管能量"
   ]
  },
  {
   "cell_type": "code",
   "execution_count": 8,
   "id": "public-marijuana",
   "metadata": {
    "ExecuteTime": {
     "end_time": "2021-06-11T11:50:24.729681Z",
     "start_time": "2021-06-11T11:50:24.726787Z"
    }
   },
   "outputs": [],
   "source": [
    "accelerate_tem = np.concatenate([Hg_pos,np.array([1])])-np.concatenate([np.array([0]),Hg_pos])\n",
    "\n",
    "accelerate_start = accelerate_tem[0]\n",
    "E_start = accelerate_start*acc_voltage\n",
    "\n",
    "accelerate_arr = accelerate_tem[1:]\n",
    "E_accelerate = accelerate_arr*acc_voltage"
   ]
  },
  {
   "cell_type": "markdown",
   "id": "failing-citizen",
   "metadata": {
    "ExecuteTime": {
     "end_time": "2021-06-10T01:52:04.689003Z",
     "start_time": "2021-06-10T01:52:04.686658Z"
    }
   },
   "source": [
    "# 核心函数"
   ]
  },
  {
   "cell_type": "markdown",
   "id": "waiting-senate",
   "metadata": {},
   "source": [
    "## 确定所处位置"
   ]
  },
  {
   "cell_type": "code",
   "execution_count": 9,
   "id": "eight-homeless",
   "metadata": {
    "ExecuteTime": {
     "end_time": "2021-06-11T11:50:24.733663Z",
     "start_time": "2021-06-11T11:50:24.731062Z"
    }
   },
   "outputs": [],
   "source": [
    "@njit\n",
    "def locate(x,arr):\n",
    "    return np.sum(np.expand_dims(x,axis = -1)-arr>0,axis = -1)"
   ]
  },
  {
   "cell_type": "markdown",
   "id": "supposed-mercy",
   "metadata": {},
   "source": [
    "## 激发"
   ]
  },
  {
   "cell_type": "code",
   "execution_count": 10,
   "id": "professional-inspection",
   "metadata": {
    "ExecuteTime": {
     "end_time": "2021-06-11T11:50:24.737454Z",
     "start_time": "2021-06-11T11:50:24.734947Z"
    }
   },
   "outputs": [],
   "source": [
    "@njit\n",
    "def my_and(tup):\n",
    "    return np.sum(np.stack(tup,axis = -1),axis = -1)==2"
   ]
  },
  {
   "cell_type": "code",
   "execution_count": 11,
   "id": "extraordinary-representation",
   "metadata": {
    "ExecuteTime": {
     "end_time": "2021-06-11T11:50:24.745309Z",
     "start_time": "2021-06-11T11:50:24.738975Z"
    }
   },
   "outputs": [],
   "source": [
    "def excite(Ek,E_state,p1,excite_2,excite_3,excite_4):\n",
    "    delta_E = np.zeros(Ek.shape) # 能量差\n",
    "    p = np.random.uniform(0,1,Ek.shape) # 概率\n",
    "    pos = locate(Ek,E_state) # 定位\n",
    "    \n",
    "    # 第一激发态\n",
    "    delta_E[my_and((pos==1,p<p1))] = E_state[0]\n",
    "    \n",
    "    # 第二激发态\n",
    "    pos_2 = locate(p,excite_2)\n",
    "    delta_E[my_and((pos==2,pos_2==1))] = E_state[0]\n",
    "    delta_E[my_and((pos==2,pos_2==2))] = E_state[1]\n",
    "    \n",
    "    \n",
    "    # 第三激发态\n",
    "    pos_3 = locate(p,excite_3)\n",
    "    delta_E[my_and((pos==3,pos_3==1))] = E_state[0]\n",
    "    delta_E[my_and((pos==3,pos_3==2))] = E_state[1]\n",
    "    delta_E[my_and((pos==3,pos_3==3))] = E_state[2]\n",
    "    \n",
    "    # 第四激发态\n",
    "    pos_4 = locate(p,excite_4)\n",
    "    delta_E[my_and((pos==4,pos_4==1))] = E_state[0]\n",
    "    delta_E[my_and((pos==4,pos_4==2))] = E_state[1]\n",
    "    delta_E[my_and((pos==4,pos_4==3))] = E_state[2]\n",
    "    delta_E[my_and((pos==4,pos_4==4))] = E_state[3]\n",
    "    \n",
    "    \n",
    "    return Ek - delta_E"
   ]
  },
  {
   "cell_type": "markdown",
   "id": "hired-tuner",
   "metadata": {},
   "source": [
    "# 通过管道"
   ]
  },
  {
   "cell_type": "code",
   "execution_count": 12,
   "id": "received-dallas",
   "metadata": {
    "ExecuteTime": {
     "end_time": "2021-06-11T11:50:24.900941Z",
     "start_time": "2021-06-11T11:50:24.747019Z"
    }
   },
   "outputs": [],
   "source": [
    "Ek += voltage_arr[...,None] #预加速\n",
    "Ek += E_start"
   ]
  },
  {
   "cell_type": "code",
   "execution_count": 13,
   "id": "irish-bench",
   "metadata": {
    "ExecuteTime": {
     "end_time": "2021-06-11T11:52:55.828078Z",
     "start_time": "2021-06-11T11:50:24.903360Z"
    }
   },
   "outputs": [
    {
     "name": "stderr",
     "output_type": "stream",
     "text": [
      "100%|██████████| 7/7 [02:30<00:00, 21.55s/it]\n"
     ]
    }
   ],
   "source": [
    "for i in tqdm(range(num_Hg)):\n",
    "    Ek = excite(Ek,E_state,p1,excite_2,excite_3,excite_4)\n",
    "    Ek += E_accelerate[i][...,None]   "
   ]
  },
  {
   "cell_type": "markdown",
   "id": "grand-alarm",
   "metadata": {},
   "source": [
    "# 被吸收"
   ]
  },
  {
   "attachments": {
    "image.png": {
     "image/png": "[encoded data removed]"
    }
   },
   "cell_type": "markdown",
   "id": "signal-butterfly",
   "metadata": {},
   "source": [
    "![image.png](attachment:image.png)"
   ]
  },
  {
   "cell_type": "code",
   "execution_count": 14,
   "id": "covered-charleston",
   "metadata": {
    "ExecuteTime": {
     "end_time": "2021-06-11T11:52:58.036136Z",
     "start_time": "2021-06-11T11:52:55.844784Z"
    }
   },
   "outputs": [],
   "source": [
    "possibility = np.exp(-0.03*Ek-0.003*(acc_voltage**2))\n",
    "p = np.random.uniform(0,1,Ek.shape)"
   ]
  },
  {
   "cell_type": "code",
   "execution_count": 15,
   "id": "acquired-neighborhood",
   "metadata": {
    "ExecuteTime": {
     "end_time": "2021-06-11T11:52:58.360785Z",
     "start_time": "2021-06-11T11:52:58.039490Z"
    }
   },
   "outputs": [],
   "source": [
    "Ek[p<possibility] = -np.inf"
   ]
  },
  {
   "cell_type": "markdown",
   "id": "helpful-benjamin",
   "metadata": {},
   "source": [
    "# 通过反向电压"
   ]
  },
  {
   "cell_type": "code",
   "execution_count": 16,
   "id": "excess-catch",
   "metadata": {
    "ExecuteTime": {
     "end_time": "2021-06-11T11:52:58.439216Z",
     "start_time": "2021-06-11T11:52:58.365272Z"
    }
   },
   "outputs": [],
   "source": [
    "Ek -= negative_voltage"
   ]
  },
  {
   "cell_type": "code",
   "execution_count": 17,
   "id": "sunset-stranger",
   "metadata": {
    "ExecuteTime": {
     "end_time": "2021-06-11T11:52:58.592729Z",
     "start_time": "2021-06-11T11:52:58.442610Z"
    }
   },
   "outputs": [],
   "source": [
    "I = np.sum(Ek>0,axis=-1)/num_electron"
   ]
  },
  {
   "cell_type": "code",
   "execution_count": 18,
   "id": "cleared-comparison",
   "metadata": {
    "ExecuteTime": {
     "end_time": "2021-06-11T11:52:58.620508Z",
     "start_time": "2021-06-11T11:52:58.595385Z"
    }
   },
   "outputs": [
    {
     "name": "stdout",
     "output_type": "stream",
     "text": [
      "[[0.00000e+00 1.06100e-02]\n",
      " [8.00000e-02 1.18950e-02]\n",
      " [1.60000e-01 1.39050e-02]\n",
      " [2.40000e-01 1.52700e-02]\n",
      " [3.20000e-01 1.72150e-02]\n",
      " [4.00000e-01 1.91150e-02]\n",
      " [4.80000e-01 2.22400e-02]\n",
      " [5.60000e-01 2.45200e-02]\n",
      " [6.40000e-01 2.78500e-02]\n",
      " [7.20000e-01 3.11950e-02]\n",
      " [8.00000e-01 3.59050e-02]\n",
      " [8.80000e-01 4.07350e-02]\n",
      " [9.60000e-01 4.52700e-02]\n",
      " [1.04000e+00 5.01150e-02]\n",
      " [1.12000e+00 5.72650e-02]\n",
      " [1.20000e+00 6.47350e-02]\n",
      " [1.28000e+00 7.23800e-02]\n",
      " [1.36000e+00 8.14900e-02]\n",
      " [1.44000e+00 8.80400e-02]\n",
      " [1.52000e+00 8.96950e-02]\n",
      " [1.60000e+00 9.20850e-02]\n",
      " [1.68000e+00 9.29450e-02]\n",
      " [1.76000e+00 9.42050e-02]\n",
      " [1.84000e+00 9.74850e-02]\n",
      " [1.92000e+00 9.83500e-02]\n",
      " [2.00000e+00 9.86550e-02]\n",
      " [2.08000e+00 9.94700e-02]\n",
      " [2.16000e+00 1.01760e-01]\n",
      " [2.24000e+00 1.01515e-01]\n",
      " [2.32000e+00 1.03185e-01]\n",
      " [2.40000e+00 1.03655e-01]\n",
      " [2.48000e+00 1.04665e-01]\n",
      " [2.56000e+00 1.05460e-01]\n",
      " [2.64000e+00 1.04930e-01]\n",
      " [2.72000e+00 1.04455e-01]\n",
      " [2.80000e+00 1.03750e-01]\n",
      " [2.88000e+00 1.03020e-01]\n",
      " [2.96000e+00 1.00395e-01]\n",
      " [3.04000e+00 9.92750e-02]\n",
      " [3.12000e+00 9.61350e-02]\n",
      " [3.20000e+00 9.49900e-02]\n",
      " [3.28000e+00 9.06150e-02]\n",
      " [3.36000e+00 8.70000e-02]\n",
      " [3.44000e+00 8.08850e-02]\n",
      " [3.52000e+00 7.38050e-02]\n",
      " [3.60000e+00 6.77550e-02]\n",
      " [3.68000e+00 5.86400e-02]\n",
      " [3.76000e+00 5.00650e-02]\n",
      " [3.84000e+00 3.96650e-02]\n",
      " [3.92000e+00 2.53700e-02]\n",
      " [4.00000e+00 1.60500e-02]\n",
      " [4.08000e+00 8.79500e-03]\n",
      " [4.16000e+00 5.19000e-03]\n",
      " [4.24000e+00 3.49500e-03]\n",
      " [4.32000e+00 3.52500e-03]\n",
      " [4.40000e+00 3.75500e-03]\n",
      " [4.48000e+00 4.08000e-03]\n",
      " [4.56000e+00 4.52000e-03]\n",
      " [4.64000e+00 5.50000e-03]\n",
      " [4.72000e+00 6.14500e-03]\n",
      " [4.80000e+00 6.74000e-03]\n",
      " [4.88000e+00 7.20500e-03]\n",
      " [4.96000e+00 8.21000e-03]\n",
      " [5.04000e+00 9.03500e-03]\n",
      " [5.12000e+00 1.04700e-02]\n",
      " [5.20000e+00 1.19800e-02]\n",
      " [5.28000e+00 1.35600e-02]\n",
      " [5.36000e+00 1.48350e-02]\n",
      " [5.44000e+00 1.72900e-02]\n",
      " [5.52000e+00 1.91550e-02]\n",
      " [5.60000e+00 2.15750e-02]\n",
      " [5.68000e+00 2.44250e-02]\n",
      " [5.76000e+00 2.73900e-02]\n",
      " [5.84000e+00 3.17300e-02]\n",
      " [5.92000e+00 3.48200e-02]\n",
      " [6.00000e+00 3.96900e-02]\n",
      " [6.08000e+00 4.42850e-02]\n",
      " [6.16000e+00 4.77600e-02]\n",
      " [6.24000e+00 5.10400e-02]\n",
      " [6.32000e+00 5.39450e-02]\n",
      " [6.40000e+00 5.53950e-02]\n",
      " [6.48000e+00 5.60000e-02]\n",
      " [6.56000e+00 5.73300e-02]\n",
      " [6.64000e+00 6.01450e-02]\n",
      " [6.72000e+00 6.30400e-02]\n",
      " [6.80000e+00 6.57450e-02]\n",
      " [6.88000e+00 6.93700e-02]\n",
      " [6.96000e+00 6.99750e-02]\n",
      " [7.04000e+00 7.19350e-02]\n",
      " [7.12000e+00 7.34600e-02]\n",
      " [7.20000e+00 7.53200e-02]\n",
      " [7.28000e+00 7.63700e-02]\n",
      " [7.36000e+00 7.79800e-02]\n",
      " [7.44000e+00 8.07650e-02]\n",
      " [7.52000e+00 8.03100e-02]\n",
      " [7.60000e+00 8.23400e-02]\n",
      " [7.68000e+00 8.38400e-02]\n",
      " [7.76000e+00 8.51050e-02]\n",
      " [7.84000e+00 8.64800e-02]\n",
      " [7.92000e+00 8.74300e-02]\n",
      " [8.00000e+00 8.94600e-02]\n",
      " [8.08000e+00 9.13550e-02]\n",
      " [8.16000e+00 8.98200e-02]\n",
      " [8.24000e+00 8.80800e-02]\n",
      " [8.32000e+00 8.55250e-02]\n",
      " [8.40000e+00 8.24150e-02]\n",
      " [8.48000e+00 7.81800e-02]\n",
      " [8.56000e+00 7.33850e-02]\n",
      " [8.64000e+00 6.97550e-02]\n",
      " [8.72000e+00 6.44500e-02]\n",
      " [8.80000e+00 6.07200e-02]\n",
      " [8.88000e+00 5.68200e-02]\n",
      " [8.96000e+00 5.36600e-02]\n",
      " [9.04000e+00 5.28400e-02]\n",
      " [9.12000e+00 4.99300e-02]\n",
      " [9.20000e+00 4.83250e-02]\n",
      " [9.28000e+00 4.58850e-02]\n",
      " [9.36000e+00 4.31100e-02]\n",
      " [9.44000e+00 4.07400e-02]\n",
      " [9.52000e+00 3.90950e-02]\n",
      " [9.60000e+00 3.84800e-02]\n",
      " [9.68000e+00 3.77450e-02]\n",
      " [9.76000e+00 3.75300e-02]\n",
      " [9.84000e+00 3.74100e-02]\n",
      " [9.92000e+00 3.60850e-02]\n",
      " [1.00000e+01 3.58600e-02]\n",
      " [1.00800e+01 3.46050e-02]\n",
      " [1.01600e+01 3.47600e-02]\n",
      " [1.02400e+01 3.31400e-02]\n",
      " [1.03200e+01 3.20500e-02]\n",
      " [1.04000e+01 2.98150e-02]\n",
      " [1.04800e+01 2.93500e-02]\n",
      " [1.05600e+01 2.57350e-02]\n",
      " [1.06400e+01 2.40300e-02]\n",
      " [1.07200e+01 2.31200e-02]\n",
      " [1.08000e+01 2.31100e-02]\n",
      " [1.08800e+01 2.49150e-02]\n",
      " [1.09600e+01 2.57200e-02]\n",
      " [1.10400e+01 2.79100e-02]\n",
      " [1.11200e+01 2.95850e-02]\n",
      " [1.12000e+01 3.09250e-02]\n",
      " [1.12800e+01 3.23850e-02]\n",
      " [1.13600e+01 3.45000e-02]\n",
      " [1.14400e+01 3.71150e-02]\n",
      " [1.15200e+01 3.97950e-02]\n",
      " [1.16000e+01 4.22050e-02]\n",
      " [1.16800e+01 4.41650e-02]\n",
      " [1.17600e+01 4.59600e-02]\n",
      " [1.18400e+01 4.74800e-02]\n",
      " [1.19200e+01 4.81100e-02]\n",
      " [1.20000e+01 5.07950e-02]\n",
      " [1.20800e+01 5.20000e-02]\n",
      " [1.21600e+01 5.42700e-02]\n",
      " [1.22400e+01 5.61950e-02]\n",
      " [1.23200e+01 5.87350e-02]\n",
      " [1.24000e+01 6.09550e-02]\n",
      " [1.24800e+01 6.27550e-02]\n",
      " [1.25600e+01 6.46100e-02]\n",
      " [1.26400e+01 6.51600e-02]\n",
      " [1.27200e+01 6.84300e-02]\n",
      " [1.28000e+01 7.08900e-02]\n",
      " [1.28800e+01 7.11200e-02]\n",
      " [1.29600e+01 7.39050e-02]\n",
      " [1.30400e+01 7.38050e-02]\n",
      " [1.31200e+01 7.30250e-02]\n",
      " [1.32000e+01 7.38550e-02]\n",
      " [1.32800e+01 7.35250e-02]\n",
      " [1.33600e+01 7.15550e-02]\n",
      " [1.34400e+01 7.19600e-02]\n",
      " [1.35200e+01 7.13500e-02]\n",
      " [1.36000e+01 6.95350e-02]\n",
      " [1.36800e+01 6.86850e-02]\n",
      " [1.37600e+01 6.65100e-02]\n",
      " [1.38400e+01 6.62500e-02]\n",
      " [1.39200e+01 6.45350e-02]\n",
      " [1.40000e+01 6.37650e-02]\n",
      " [1.40800e+01 6.19950e-02]\n",
      " [1.41600e+01 6.02500e-02]\n",
      " [1.42400e+01 5.83900e-02]\n",
      " [1.43200e+01 5.83350e-02]\n",
      " [1.44000e+01 5.78150e-02]\n",
      " [1.44800e+01 5.77450e-02]\n",
      " [1.45600e+01 5.63900e-02]\n",
      " [1.46400e+01 5.67700e-02]\n",
      " [1.47200e+01 5.71050e-02]\n",
      " [1.48000e+01 5.56250e-02]\n",
      " [1.48800e+01 5.47250e-02]\n",
      " [1.49600e+01 5.32700e-02]\n",
      " [1.50400e+01 5.14700e-02]\n",
      " [1.51200e+01 5.12950e-02]\n",
      " [1.52000e+01 4.68950e-02]\n",
      " [1.52800e+01 4.53150e-02]\n",
      " [1.53600e+01 4.27050e-02]\n",
      " [1.54400e+01 4.12800e-02]\n",
      " [1.55200e+01 3.85200e-02]\n",
      " [1.56000e+01 3.72700e-02]\n",
      " [1.56800e+01 3.74950e-02]\n",
      " [1.57600e+01 3.66650e-02]\n",
      " [1.58400e+01 3.50050e-02]\n",
      " [1.59200e+01 3.57000e-02]\n",
      " [1.60000e+01 3.56100e-02]\n",
      " [1.60800e+01 3.49750e-02]\n",
      " [1.61600e+01 3.43750e-02]\n",
      " [1.62400e+01 3.56750e-02]\n",
      " [1.63200e+01 3.50600e-02]\n",
      " [1.64000e+01 3.66050e-02]\n",
      " [1.64800e+01 3.80350e-02]\n",
      " [1.65600e+01 3.92650e-02]\n",
      " [1.66400e+01 4.05350e-02]\n",
      " [1.67200e+01 4.23500e-02]\n",
      " [1.68000e+01 4.22050e-02]\n",
      " [1.68800e+01 4.25650e-02]\n",
      " [1.69600e+01 4.44950e-02]\n",
      " [1.70400e+01 4.49700e-02]\n",
      " [1.71200e+01 4.56850e-02]\n",
      " [1.72000e+01 4.67650e-02]\n",
      " [1.72800e+01 4.71050e-02]\n",
      " [1.73600e+01 4.78550e-02]\n",
      " [1.74400e+01 4.92300e-02]\n",
      " [1.75200e+01 5.03250e-02]\n",
      " [1.76000e+01 5.08550e-02]\n",
      " [1.76800e+01 5.36850e-02]\n",
      " [1.77600e+01 5.31950e-02]\n",
      " [1.78400e+01 5.62350e-02]\n",
      " [1.79200e+01 5.66000e-02]\n",
      " [1.80000e+01 5.75750e-02]\n",
      " [1.80800e+01 5.86900e-02]\n",
      " [1.81600e+01 6.09050e-02]\n",
      " [1.82400e+01 6.18350e-02]\n",
      " [1.83200e+01 6.22450e-02]\n",
      " [1.84000e+01 6.11250e-02]\n",
      " [1.84800e+01 6.24650e-02]\n",
      " [1.85600e+01 6.21050e-02]\n",
      " [1.86400e+01 6.18150e-02]\n",
      " [1.87200e+01 6.10100e-02]\n",
      " [1.88000e+01 6.12850e-02]\n",
      " [1.88800e+01 6.12100e-02]\n",
      " [1.89600e+01 6.22050e-02]\n",
      " [1.90400e+01 6.16850e-02]\n",
      " [1.91200e+01 6.17200e-02]\n",
      " [1.92000e+01 6.20900e-02]\n",
      " [1.92800e+01 6.27700e-02]\n",
      " [1.93600e+01 6.16100e-02]\n",
      " [1.94400e+01 6.27500e-02]\n",
      " [1.95200e+01 6.35900e-02]\n",
      " [1.96000e+01 6.24750e-02]\n",
      " [1.96800e+01 6.21450e-02]\n",
      " [1.97600e+01 6.06000e-02]\n",
      " [1.98400e+01 5.97300e-02]\n",
      " [1.99200e+01 5.96650e-02]\n",
      " [2.00000e+01 5.84200e-02]\n",
      " [2.00800e+01 5.76750e-02]\n",
      " [2.01600e+01 5.50900e-02]\n",
      " [2.02400e+01 5.44950e-02]\n",
      " [2.03200e+01 5.36900e-02]\n",
      " [2.04000e+01 5.13950e-02]\n",
      " [2.04800e+01 5.06600e-02]\n",
      " [2.05600e+01 4.88300e-02]\n",
      " [2.06400e+01 4.83250e-02]\n",
      " [2.07200e+01 4.70950e-02]\n",
      " [2.08000e+01 4.61950e-02]\n",
      " [2.08800e+01 4.52050e-02]\n",
      " [2.09600e+01 4.44300e-02]\n",
      " [2.10400e+01 4.40200e-02]\n",
      " [2.11200e+01 4.36750e-02]\n",
      " [2.12000e+01 4.41100e-02]\n",
      " [2.12800e+01 4.43500e-02]\n",
      " [2.13600e+01 4.45650e-02]\n",
      " [2.14400e+01 4.50600e-02]\n",
      " [2.15200e+01 4.54750e-02]\n",
      " [2.16000e+01 4.56350e-02]\n",
      " [2.16800e+01 4.50400e-02]\n",
      " [2.17600e+01 4.51100e-02]\n",
      " [2.18400e+01 4.49800e-02]\n",
      " [2.19200e+01 4.40450e-02]\n",
      " [2.20000e+01 4.49900e-02]\n",
      " [2.20800e+01 4.40150e-02]\n",
      " [2.21600e+01 4.44400e-02]\n",
      " [2.22400e+01 4.43400e-02]\n",
      " [2.23200e+01 4.51100e-02]\n",
      " [2.24000e+01 4.54850e-02]\n",
      " [2.24800e+01 4.70350e-02]\n",
      " [2.25600e+01 4.73500e-02]\n",
      " [2.26400e+01 4.73450e-02]\n",
      " [2.27200e+01 4.88400e-02]\n",
      " [2.28000e+01 4.92000e-02]\n",
      " [2.28800e+01 4.89250e-02]\n",
      " [2.29600e+01 4.97150e-02]\n",
      " [2.30400e+01 5.21050e-02]\n",
      " [2.31200e+01 5.26150e-02]\n",
      " [2.32000e+01 5.36950e-02]\n",
      " [2.32800e+01 5.34850e-02]\n",
      " [2.33600e+01 5.44700e-02]\n",
      " [2.34400e+01 5.62150e-02]\n",
      " [2.35200e+01 5.61250e-02]\n",
      " [2.36000e+01 5.64500e-02]\n",
      " [2.36800e+01 5.71700e-02]\n",
      " [2.37600e+01 5.77800e-02]\n",
      " [2.38400e+01 5.80350e-02]\n",
      " [2.39200e+01 5.88500e-02]\n",
      " [2.40000e+01 5.88200e-02]\n",
      " [2.40800e+01 5.88500e-02]\n",
      " [2.41600e+01 5.91200e-02]\n",
      " [2.42400e+01 6.01800e-02]\n",
      " [2.43200e+01 6.03450e-02]\n",
      " [2.44000e+01 6.04450e-02]\n",
      " [2.44800e+01 6.13700e-02]\n",
      " [2.45600e+01 6.21950e-02]\n",
      " [2.46400e+01 6.08400e-02]\n",
      " [2.47200e+01 6.10100e-02]\n",
      " [2.48000e+01 6.10950e-02]\n",
      " [2.48800e+01 6.28150e-02]\n",
      " [2.49600e+01 6.09550e-02]\n",
      " [2.50400e+01 6.16800e-02]\n",
      " [2.51200e+01 6.04800e-02]\n",
      " [2.52000e+01 5.99400e-02]\n",
      " [2.52800e+01 5.91500e-02]\n",
      " [2.53600e+01 5.84100e-02]\n",
      " [2.54400e+01 5.82150e-02]\n",
      " [2.55200e+01 5.74050e-02]\n",
      " [2.56000e+01 5.69950e-02]\n",
      " [2.56800e+01 5.68000e-02]\n",
      " [2.57600e+01 5.61700e-02]\n",
      " [2.58400e+01 5.52850e-02]\n",
      " [2.59200e+01 5.54950e-02]\n",
      " [2.60000e+01 5.60100e-02]\n",
      " [2.60800e+01 5.59350e-02]\n",
      " [2.61600e+01 5.58800e-02]\n",
      " [2.62400e+01 5.48800e-02]\n",
      " [2.63200e+01 5.50700e-02]\n",
      " [2.64000e+01 5.50300e-02]\n",
      " [2.64800e+01 5.39650e-02]\n",
      " [2.65600e+01 5.28500e-02]\n",
      " [2.66400e+01 5.36200e-02]\n",
      " [2.67200e+01 5.35100e-02]\n",
      " [2.68000e+01 5.27700e-02]\n",
      " [2.68800e+01 5.24950e-02]\n",
      " [2.69600e+01 5.20300e-02]\n",
      " [2.70400e+01 5.22450e-02]\n",
      " [2.71200e+01 5.10400e-02]\n",
      " [2.72000e+01 5.19850e-02]\n",
      " [2.72800e+01 5.15850e-02]\n",
      " [2.73600e+01 5.26150e-02]\n",
      " [2.74400e+01 5.16600e-02]\n",
      " [2.75200e+01 5.12400e-02]\n",
      " [2.76000e+01 5.23500e-02]\n",
      " [2.76800e+01 5.12100e-02]\n",
      " [2.77600e+01 5.32450e-02]\n",
      " [2.78400e+01 5.28350e-02]\n",
      " [2.79200e+01 5.36150e-02]\n",
      " [2.80000e+01 5.50850e-02]\n",
      " [2.80800e+01 5.48150e-02]\n",
      " [2.81600e+01 5.61250e-02]\n",
      " [2.82400e+01 5.68200e-02]\n",
      " [2.83200e+01 5.69600e-02]\n",
      " [2.84000e+01 5.79200e-02]\n",
      " [2.84800e+01 5.84250e-02]\n",
      " [2.85600e+01 5.83000e-02]\n",
      " [2.86400e+01 5.98900e-02]\n",
      " [2.87200e+01 6.01350e-02]\n",
      " [2.88000e+01 5.99400e-02]\n",
      " [2.88800e+01 5.95650e-02]\n",
      " [2.89600e+01 6.10050e-02]\n",
      " [2.90400e+01 6.21550e-02]\n",
      " [2.91200e+01 6.35150e-02]\n",
      " [2.92000e+01 6.31400e-02]\n",
      " [2.92800e+01 6.38900e-02]\n",
      " [2.93600e+01 6.45850e-02]\n",
      " [2.94400e+01 6.50500e-02]\n",
      " [2.95200e+01 6.60250e-02]\n",
      " [2.96000e+01 6.58650e-02]\n",
      " [2.96800e+01 6.64050e-02]\n",
      " [2.97600e+01 6.78950e-02]\n",
      " [2.98400e+01 6.83600e-02]\n",
      " [2.99200e+01 6.88400e-02]\n",
      " [3.00000e+01 6.87700e-02]\n",
      " [3.00800e+01 6.89600e-02]\n",
      " [3.01600e+01 6.92050e-02]\n",
      " [3.02400e+01 6.99250e-02]\n",
      " [3.03200e+01 7.07950e-02]\n",
      " [3.04000e+01 7.03950e-02]\n",
      " [3.04800e+01 7.03900e-02]\n",
      " [3.05600e+01 7.12700e-02]\n",
      " [3.06400e+01 7.05550e-02]\n",
      " [3.07200e+01 7.17900e-02]\n",
      " [3.08000e+01 7.20300e-02]\n",
      " [3.08800e+01 7.21350e-02]\n",
      " [3.09600e+01 7.32400e-02]\n",
      " [3.10400e+01 7.24400e-02]\n",
      " [3.11200e+01 7.23700e-02]\n",
      " [3.12000e+01 7.26200e-02]\n",
      " [3.12800e+01 7.26250e-02]\n",
      " [3.13600e+01 7.19750e-02]\n",
      " [3.14400e+01 7.26350e-02]\n",
      " [3.15200e+01 7.22950e-02]\n",
      " [3.16000e+01 7.26100e-02]\n",
      " [3.16800e+01 7.40700e-02]\n",
      " [3.17600e+01 7.36950e-02]\n",
      " [3.18400e+01 7.37350e-02]\n",
      " [3.19200e+01 7.37200e-02]\n",
      " [3.20000e+01 7.27850e-02]\n",
      " [3.20800e+01 7.41200e-02]\n",
      " [3.21600e+01 7.40700e-02]\n",
      " [3.22400e+01 7.34150e-02]\n",
      " [3.23200e+01 7.31650e-02]\n",
      " [3.24000e+01 7.33800e-02]\n",
      " [3.24800e+01 7.43900e-02]\n",
      " [3.25600e+01 7.44050e-02]\n",
      " [3.26400e+01 7.57550e-02]\n",
      " [3.27200e+01 7.53650e-02]\n",
      " [3.28000e+01 7.67700e-02]\n",
      " [3.28800e+01 7.76450e-02]\n",
      " [3.29600e+01 7.76050e-02]\n",
      " [3.30400e+01 7.82050e-02]\n",
      " [3.31200e+01 7.82250e-02]\n",
      " [3.32000e+01 7.86600e-02]\n",
      " [3.32800e+01 7.91100e-02]\n",
      " [3.33600e+01 7.97650e-02]\n",
      " [3.34400e+01 8.10900e-02]\n",
      " [3.35200e+01 8.26850e-02]\n",
      " [3.36000e+01 8.25450e-02]\n",
      " [3.36800e+01 8.39000e-02]\n",
      " [3.37600e+01 8.37550e-02]\n",
      " [3.38400e+01 8.50050e-02]\n",
      " [3.39200e+01 8.48500e-02]\n",
      " [3.40000e+01 8.64350e-02]\n",
      " [3.40800e+01 8.73900e-02]\n",
      " [3.41600e+01 8.79950e-02]\n",
      " [3.42400e+01 8.89200e-02]\n",
      " [3.43200e+01 8.96300e-02]\n",
      " [3.44000e+01 9.07350e-02]\n",
      " [3.44800e+01 9.23450e-02]\n",
      " [3.45600e+01 9.24950e-02]\n",
      " [3.46400e+01 9.42150e-02]\n",
      " [3.47200e+01 9.59000e-02]\n",
      " [3.48000e+01 9.62600e-02]\n",
      " [3.48800e+01 9.80350e-02]\n",
      " [3.49600e+01 9.82600e-02]\n",
      " [3.50400e+01 9.93500e-02]\n",
      " [3.51200e+01 1.01065e-01]\n",
      " [3.52000e+01 1.00810e-01]\n",
      " [3.52800e+01 1.02505e-01]\n",
      " [3.53600e+01 1.04145e-01]\n",
      " [3.54400e+01 1.06310e-01]\n",
      " [3.55200e+01 1.04590e-01]\n",
      " [3.56000e+01 1.06690e-01]\n",
      " [3.56800e+01 1.08140e-01]\n",
      " [3.57600e+01 1.08535e-01]\n",
      " [3.58400e+01 1.11285e-01]\n",
      " [3.59200e+01 1.11440e-01]\n",
      " [3.60000e+01 1.13620e-01]\n",
      " [3.60800e+01 1.12795e-01]\n",
      " [3.61600e+01 1.14750e-01]\n",
      " [3.62400e+01 1.15600e-01]\n",
      " [3.63200e+01 1.15935e-01]\n",
      " [3.64000e+01 1.18800e-01]\n",
      " [3.64800e+01 1.19750e-01]\n",
      " [3.65600e+01 1.21940e-01]\n",
      " [3.66400e+01 1.22570e-01]\n",
      " [3.67200e+01 1.22525e-01]\n",
      " [3.68000e+01 1.23200e-01]\n",
      " [3.68800e+01 1.24830e-01]\n",
      " [3.69600e+01 1.24830e-01]\n",
      " [3.70400e+01 1.25870e-01]\n",
      " [3.71200e+01 1.27940e-01]\n",
      " [3.72000e+01 1.29235e-01]\n",
      " [3.72800e+01 1.29080e-01]\n",
      " [3.73600e+01 1.31595e-01]\n",
      " [3.74400e+01 1.32660e-01]\n",
      " [3.75200e+01 1.32135e-01]\n",
      " [3.76000e+01 1.33275e-01]\n",
      " [3.76800e+01 1.35640e-01]\n",
      " [3.77600e+01 1.36555e-01]\n",
      " [3.78400e+01 1.36250e-01]\n",
      " [3.79200e+01 1.38485e-01]\n",
      " [3.80000e+01 1.40475e-01]\n",
      " [3.80800e+01 1.40355e-01]\n",
      " [3.81600e+01 1.41250e-01]\n",
      " [3.82400e+01 1.41945e-01]\n",
      " [3.83200e+01 1.44540e-01]\n",
      " [3.84000e+01 1.47280e-01]\n",
      " [3.84800e+01 1.48140e-01]\n",
      " [3.85600e+01 1.48350e-01]\n",
      " [3.86400e+01 1.49065e-01]\n",
      " [3.87200e+01 1.51245e-01]\n",
      " [3.88000e+01 1.52115e-01]\n",
      " [3.88800e+01 1.54275e-01]\n",
      " [3.89600e+01 1.54680e-01]\n",
      " [3.90400e+01 1.56455e-01]\n",
      " [3.91200e+01 1.58645e-01]\n",
      " [3.92000e+01 1.58550e-01]\n",
      " [3.92800e+01 1.60520e-01]\n",
      " [3.93600e+01 1.62115e-01]\n",
      " [3.94400e+01 1.61780e-01]\n",
      " [3.95200e+01 1.64360e-01]\n",
      " [3.96000e+01 1.66505e-01]\n",
      " [3.96800e+01 1.66860e-01]\n",
      " [3.97600e+01 1.69005e-01]\n",
      " [3.98400e+01 1.71090e-01]\n",
      " [3.99200e+01 1.72700e-01]]\n"
     ]
    }
   ],
   "source": [
    "print(np.stack((voltage_arr,I),axis = -1))"
   ]
  },
  {
   "cell_type": "code",
   "execution_count": 19,
   "id": "intellectual-tourist",
   "metadata": {
    "ExecuteTime": {
     "end_time": "2021-06-11T11:52:58.985957Z",
     "start_time": "2021-06-11T11:52:58.621977Z"
    }
   },
   "outputs": [
    {
     "data": {
      "image/png": "[encoded data removed]",
      "text/plain": [
       "<Figure size 432x288 with 1 Axes>"
      ]
     },
     "metadata": {
      "needs_background": "light"
     },
     "output_type": "display_data"
    }
   ],
   "source": [
    "plt.plot(voltage_arr,I)\n",
    "plt.show()"
   ]
  },
  {
   "cell_type": "code",
   "execution_count": null,
   "id": "first-harrison",
   "metadata": {},
   "outputs": [],
   "source": []
  }
 ],
 "metadata": {
  "hide_input": false,
  "kernelspec": {
   "display_name": "Python 3",
   "language": "python",
   "name": "python3"
  },
  "language_info": {
   "codemirror_mode": {
    "name": "ipython",
    "version": 3
   },
   "file_extension": ".py",
   "mimetype": "text/x-python",
   "name": "python",
   "nbconvert_exporter": "python",
   "pygments_lexer": "ipython3",
   "version": "3.7.6"
  },
  "toc": {
   "base_numbering": 1,
   "nav_menu": {},
   "number_sections": true,
   "sideBar": true,
   "skip_h1_title": false,
   "title_cell": "Table of Contents",
   "title_sidebar": "Contents",
   "toc_cell": false,
   "toc_position": {},
   "toc_section_display": true,
   "toc_window_display": false
  },
  "varInspector": {
   "cols": {
    "lenName": 16,
    "lenType": 16,
    "lenVar": 40
   },
   "kernels_config": {
    "python": {
     "delete_cmd_postfix": "",
     "delete_cmd_prefix": "del ",
     "library": "var_list.py",
     "varRefreshCmd": "print(var_dic_list())"
    },
    "r": {
     "delete_cmd_postfix": ") ",
     "delete_cmd_prefix": "rm(",
     "library": "var_list.r",
     "varRefreshCmd": "cat(var_dic_list()) "
    }
   },
   "types_to_exclude": [
    "module",
    "function",
    "builtin_function_or_method",
    "instance",
    "_Feature"
   ],
   "window_display": false
  }
 },
 "nbformat": 4,
 "nbformat_minor": 5
}
