{
 "cells": [
  {
   "cell_type": "code",
   "execution_count": 1,
   "id": "lucky-willow",
   "metadata": {
    "ExecuteTime": {
     "end_time": "2021-06-10T11:58:46.904772Z",
     "start_time": "2021-06-10T11:58:46.105386Z"
    }
   },
   "outputs": [],
   "source": [
    "import numpy as np\n",
    "from numba import njit,jit\n",
    "import matplotlib.pyplot as plt\n",
    "from tqdm import tqdm"
   ]
  },
  {
   "cell_type": "markdown",
   "id": "different-bottle",
   "metadata": {},
   "source": [
    "# 设定参数"
   ]
  },
  {
   "cell_type": "markdown",
   "id": "intermediate-retreat",
   "metadata": {},
   "source": [
    "## 基本参数"
   ]
  },
  {
   "cell_type": "code",
   "execution_count": 2,
   "id": "distant-eclipse",
   "metadata": {
    "ExecuteTime": {
     "end_time": "2021-06-10T11:58:46.910923Z",
     "start_time": "2021-06-10T11:58:46.907892Z"
    }
   },
   "outputs": [],
   "source": [
    "num_electron = 10**(5)\n",
    "num_Hg = 20\n",
    "num_voltage = 500\n",
    "max_voltage = 80\n",
    "lambda_Ek = 1.5\n",
    "negative_voltage = 4"
   ]
  },
  {
   "cell_type": "markdown",
   "id": "racial-shield",
   "metadata": {},
   "source": [
    "# 设定常量"
   ]
  },
  {
   "cell_type": "code",
   "execution_count": 3,
   "id": "nominated-train",
   "metadata": {
    "ExecuteTime": {
     "end_time": "2021-06-10T11:58:46.915846Z",
     "start_time": "2021-06-10T11:58:46.913385Z"
    }
   },
   "outputs": [],
   "source": [
    "e = 1.6021892*10**(-19)\n",
    "kB = 1.380649*10**(-23)"
   ]
  },
  {
   "cell_type": "markdown",
   "id": "mighty-nomination",
   "metadata": {},
   "source": [
    "## 激发常量"
   ]
  },
  {
   "cell_type": "code",
   "execution_count": 4,
   "id": "affecting-serve",
   "metadata": {
    "ExecuteTime": {
     "end_time": "2021-06-10T11:58:46.920767Z",
     "start_time": "2021-06-10T11:58:46.917818Z"
    }
   },
   "outputs": [],
   "source": [
    "E_state = np.array([4.67,4.89,5.46])\n",
    "p1 = 0.5\n",
    "p2 = 0.6\n",
    "p3 = 0.7"
   ]
  },
  {
   "cell_type": "code",
   "execution_count": 5,
   "id": "recovered-exclusive",
   "metadata": {
    "ExecuteTime": {
     "end_time": "2021-06-10T11:58:46.925893Z",
     "start_time": "2021-06-10T11:58:46.922569Z"
    }
   },
   "outputs": [],
   "source": [
    "p01 = 0.4\n",
    "p02 = 0.4\n",
    "excite_2 = np.array([p01,p1+p01,p2+p1+p01])/(p01+p1+p2)\n",
    "excite_3 = np.array([p02,p1+p02,p3+p1+p02,p3+p3+p1+p02])/(p02+p1+p3+p3)"
   ]
  },
  {
   "cell_type": "markdown",
   "id": "identified-michael",
   "metadata": {},
   "source": [
    "# 初始化参数"
   ]
  },
  {
   "cell_type": "markdown",
   "id": "wireless-louis",
   "metadata": {
    "ExecuteTime": {
     "end_time": "2021-06-10T01:12:45.966827Z",
     "start_time": "2021-06-10T01:12:45.964880Z"
    }
   },
   "source": [
    "## 初始化动能"
   ]
  },
  {
   "attachments": {
    "image.png": {
     "image/png": "[encoded data removed]"
    }
   },
   "cell_type": "markdown",
   "id": "grand-donna",
   "metadata": {},
   "source": [
    "![image.png](attachment:image.png)"
   ]
  },
  {
   "attachments": {
    "image.png": {
     "image/png": "[encoded data removed]"
    }
   },
   "cell_type": "markdown",
   "id": "earned-medium",
   "metadata": {},
   "source": [
    "![image.png](attachment:image.png)"
   ]
  },
  {
   "cell_type": "code",
   "execution_count": 6,
   "id": "balanced-canyon",
   "metadata": {
    "ExecuteTime": {
     "end_time": "2021-06-10T11:58:47.842773Z",
     "start_time": "2021-06-10T11:58:46.927599Z"
    }
   },
   "outputs": [],
   "source": [
    "Ek = np.random.exponential(1/lambda_Ek,(num_voltage,num_electron))"
   ]
  },
  {
   "cell_type": "markdown",
   "id": "demonstrated-yemen",
   "metadata": {},
   "source": [
    "## 生成Hg原子相对位置"
   ]
  },
  {
   "cell_type": "code",
   "execution_count": 7,
   "id": "theoretical-causing",
   "metadata": {
    "ExecuteTime": {
     "end_time": "2021-06-10T11:58:47.848199Z",
     "start_time": "2021-06-10T11:58:47.846166Z"
    }
   },
   "outputs": [],
   "source": [
    "Hg_pos = np.random.uniform(0,1,num_Hg)\n",
    "Hg_pos = np.sort(Hg_pos)"
   ]
  },
  {
   "cell_type": "markdown",
   "id": "detected-collective",
   "metadata": {},
   "source": [
    "## 确定每级加速能量"
   ]
  },
  {
   "cell_type": "code",
   "execution_count": 8,
   "id": "legislative-dictionary",
   "metadata": {
    "ExecuteTime": {
     "end_time": "2021-06-10T11:58:47.853702Z",
     "start_time": "2021-06-10T11:58:47.850764Z"
    }
   },
   "outputs": [],
   "source": [
    "voltage = np.arange(0,max_voltage,max_voltage/num_voltage)\n",
    "accelerate_tem = np.concatenate([Hg_pos,np.array([1])])-np.concatenate([np.array([0]),Hg_pos])"
   ]
  },
  {
   "cell_type": "code",
   "execution_count": 9,
   "id": "public-marijuana",
   "metadata": {
    "ExecuteTime": {
     "end_time": "2021-06-10T11:58:47.859208Z",
     "start_time": "2021-06-10T11:58:47.855719Z"
    }
   },
   "outputs": [],
   "source": [
    "accelerate_start = accelerate_tem[0]\n",
    "E_start = accelerate_start*voltage[...,None]\n",
    "\n",
    "accelerate_arr = accelerate_tem[1:]\n",
    "E_accelerate = accelerate_arr[...,None]*voltage"
   ]
  },
  {
   "cell_type": "markdown",
   "id": "failing-citizen",
   "metadata": {
    "ExecuteTime": {
     "end_time": "2021-06-10T01:52:04.689003Z",
     "start_time": "2021-06-10T01:52:04.686658Z"
    }
   },
   "source": [
    "# 核心函数"
   ]
  },
  {
   "cell_type": "markdown",
   "id": "waiting-senate",
   "metadata": {},
   "source": [
    "## 确定所处位置"
   ]
  },
  {
   "cell_type": "code",
   "execution_count": 10,
   "id": "eight-homeless",
   "metadata": {
    "ExecuteTime": {
     "end_time": "2021-06-10T11:58:47.864230Z",
     "start_time": "2021-06-10T11:58:47.861179Z"
    }
   },
   "outputs": [],
   "source": [
    "@njit\n",
    "def locate(x,arr):\n",
    "    return np.sum(np.expand_dims(x,axis = -1)-arr>0,axis = -1)"
   ]
  },
  {
   "cell_type": "markdown",
   "id": "supposed-mercy",
   "metadata": {},
   "source": [
    "## 激发"
   ]
  },
  {
   "cell_type": "code",
   "execution_count": 11,
   "id": "professional-inspection",
   "metadata": {
    "ExecuteTime": {
     "end_time": "2021-06-10T11:58:47.868634Z",
     "start_time": "2021-06-10T11:58:47.866038Z"
    }
   },
   "outputs": [],
   "source": [
    "@njit\n",
    "def my_and(tup):\n",
    "    return np.sum(np.stack(tup,axis = -1),axis = -1)==2"
   ]
  },
  {
   "cell_type": "code",
   "execution_count": 12,
   "id": "extraordinary-representation",
   "metadata": {
    "ExecuteTime": {
     "end_time": "2021-06-10T11:58:47.874740Z",
     "start_time": "2021-06-10T11:58:47.870144Z"
    }
   },
   "outputs": [],
   "source": [
    "def excite(Ek,E_state,p1,excite_2,excite_3):\n",
    "    delta_E = np.zeros(Ek.shape) # 能量差\n",
    "    p = np.random.uniform(0,1,Ek.shape) # 概率\n",
    "    pos = locate(Ek,E_state) # 定位\n",
    "    \n",
    "    # 第一激发态\n",
    "    delta_E[my_and((pos==1,p<p1))] = E_state[0]\n",
    "    \n",
    "    # 第二激发态\n",
    "    pos_2 = locate(p,excite_2)\n",
    "    delta_E[my_and((pos==2,pos_2==1))] = E_state[0]\n",
    "    delta_E[my_and((pos==2,pos_2==2))] = E_state[1]\n",
    "    \n",
    "    \n",
    "    # 第三激发态\n",
    "    pos_3 = locate(p,excite_3)\n",
    "    delta_E[my_and((pos==3,pos_3==1))] = E_state[0]\n",
    "    delta_E[my_and((pos==3,pos_3==2))] = E_state[1]\n",
    "    delta_E[my_and((pos==3,pos_3==3))] = E_state[2]\n",
    "    \n",
    "    \n",
    "    \n",
    "    return Ek - delta_E"
   ]
  },
  {
   "cell_type": "markdown",
   "id": "hired-tuner",
   "metadata": {},
   "source": [
    "# 通过管道"
   ]
  },
  {
   "cell_type": "code",
   "execution_count": 13,
   "id": "received-dallas",
   "metadata": {
    "ExecuteTime": {
     "end_time": "2021-06-10T11:58:47.914935Z",
     "start_time": "2021-06-10T11:58:47.876170Z"
    }
   },
   "outputs": [],
   "source": [
    "Ek += E_start"
   ]
  },
  {
   "cell_type": "code",
   "execution_count": 14,
   "id": "irish-bench",
   "metadata": {
    "ExecuteTime": {
     "end_time": "2021-06-10T12:00:57.364524Z",
     "start_time": "2021-06-10T11:58:47.917044Z"
    }
   },
   "outputs": [
    {
     "name": "stderr",
     "output_type": "stream",
     "text": [
      "100%|██████████| 20/20 [02:09<00:00,  6.47s/it]\n"
     ]
    }
   ],
   "source": [
    "for i in tqdm(range(num_Hg)):\n",
    "    Ek = excite(Ek,E_state,p1,excite_2,excite_3)\n",
    "    Ek += E_accelerate[i][...,None]   "
   ]
  },
  {
   "cell_type": "markdown",
   "id": "grand-alarm",
   "metadata": {},
   "source": [
    "# 被吸收"
   ]
  },
  {
   "attachments": {
    "image.png": {
     "image/png": "[encoded data removed]"
    }
   },
   "cell_type": "markdown",
   "id": "signal-butterfly",
   "metadata": {},
   "source": [
    "![image.png](attachment:image.png)"
   ]
  },
  {
   "cell_type": "code",
   "execution_count": 15,
   "id": "covered-charleston",
   "metadata": {
    "ExecuteTime": {
     "end_time": "2021-06-10T12:00:58.511876Z",
     "start_time": "2021-06-10T12:00:57.366531Z"
    }
   },
   "outputs": [],
   "source": [
    "possibility = np.exp(-0.03*Ek-0.003*(negative_voltage**2))\n",
    "p = np.random.uniform(0,1,Ek.shape)"
   ]
  },
  {
   "cell_type": "code",
   "execution_count": 16,
   "id": "acquired-neighborhood",
   "metadata": {
    "ExecuteTime": {
     "end_time": "2021-06-10T12:00:58.744967Z",
     "start_time": "2021-06-10T12:00:58.513308Z"
    }
   },
   "outputs": [],
   "source": [
    "Ek[p<possibility] = -np.inf"
   ]
  },
  {
   "cell_type": "markdown",
   "id": "helpful-benjamin",
   "metadata": {},
   "source": [
    "# 通过反向电压"
   ]
  },
  {
   "cell_type": "code",
   "execution_count": 17,
   "id": "excess-catch",
   "metadata": {
    "ExecuteTime": {
     "end_time": "2021-06-10T12:00:58.785553Z",
     "start_time": "2021-06-10T12:00:58.746196Z"
    }
   },
   "outputs": [],
   "source": [
    "Ek -= negative_voltage"
   ]
  },
  {
   "cell_type": "code",
   "execution_count": 18,
   "id": "sunset-stranger",
   "metadata": {
    "ExecuteTime": {
     "end_time": "2021-06-10T12:00:58.865357Z",
     "start_time": "2021-06-10T12:00:58.787626Z"
    }
   },
   "outputs": [],
   "source": [
    "I = np.sum(Ek>0,axis=-1)/num_electron"
   ]
  },
  {
   "cell_type": "code",
   "execution_count": 19,
   "id": "intellectual-tourist",
   "metadata": {
    "ExecuteTime": {
     "end_time": "2021-06-10T12:00:59.056149Z",
     "start_time": "2021-06-10T12:00:58.867067Z"
    }
   },
   "outputs": [
    {
     "data": {
      "image/png": "[encoded data removed]",
      "text/plain": [
       "<Figure size 432x288 with 1 Axes>"
      ]
     },
     "metadata": {
      "needs_background": "light"
     },
     "output_type": "display_data"
    }
   ],
   "source": [
    "plt.plot(voltage,I)\n",
    "plt.show()"
   ]
  },
  {
   "cell_type": "code",
   "execution_count": null,
   "id": "sophisticated-montana",
   "metadata": {},
   "outputs": [],
   "source": []
  }
 ],
 "metadata": {
  "hide_input": false,
  "kernelspec": {
   "display_name": "Python 3",
   "language": "python",
   "name": "python3"
  },
  "language_info": {
   "codemirror_mode": {
    "name": "ipython",
    "version": 3
   },
   "file_extension": ".py",
   "mimetype": "text/x-python",
   "name": "python",
   "nbconvert_exporter": "python",
   "pygments_lexer": "ipython3",
   "version": "3.7.6"
  },
  "toc": {
   "base_numbering": 1,
   "nav_menu": {},
   "number_sections": true,
   "sideBar": true,
   "skip_h1_title": false,
   "title_cell": "Table of Contents",
   "title_sidebar": "Contents",
   "toc_cell": false,
   "toc_position": {},
   "toc_section_display": true,
   "toc_window_display": false
  },
  "varInspector": {
   "cols": {
    "lenName": 16,
    "lenType": 16,
    "lenVar": 40
   },
   "kernels_config": {
    "python": {
     "delete_cmd_postfix": "",
     "delete_cmd_prefix": "del ",
     "library": "var_list.py",
     "varRefreshCmd": "print(var_dic_list())"
    },
    "r": {
     "delete_cmd_postfix": ") ",
     "delete_cmd_prefix": "rm(",
     "library": "var_list.r",
     "varRefreshCmd": "cat(var_dic_list()) "
    }
   },
   "types_to_exclude": [
    "module",
    "function",
    "builtin_function_or_method",
    "instance",
    "_Feature"
   ],
   "window_display": false
  }
 },
 "nbformat": 4,
 "nbformat_minor": 5
}
